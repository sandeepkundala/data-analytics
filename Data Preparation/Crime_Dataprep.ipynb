{
 "cells": [
  {
   "cell_type": "markdown",
   "metadata": {},
   "source": [
    "<h1>Data Preperation for Crime Dataset</h1>\n",
    "\n",
    "<p>\n",
    "Manipulating the raw data to an easily understandable format for better analysis.\n",
    "\n",
    "</p>",
    "<p>",
    "Step 1: Import the data file and print its first 5 entries:\n",
    "</p>"
   ]
  },
  {
   "cell_type": "code",
   "execution_count": 1,
   "metadata": {},
   "outputs": [
    {
     "name": "stdout",
     "output_type": "stream",
     "text": [
      "             Dates        Category                      Descript  DayOfWeek  \\\n",
      "0  5/13/2015 23:53        WARRANTS                WARRANT ARREST  Wednesday   \n",
      "1  5/13/2015 23:53  OTHER OFFENSES      TRAFFIC VIOLATION ARREST  Wednesday   \n",
      "2  5/13/2015 23:33  OTHER OFFENSES      TRAFFIC VIOLATION ARREST  Wednesday   \n",
      "3  5/13/2015 23:30   LARCENY/THEFT  GRAND THEFT FROM LOCKED AUTO  Wednesday   \n",
      "4  5/13/2015 23:30   LARCENY/THEFT  GRAND THEFT FROM LOCKED AUTO  Wednesday   \n",
      "\n",
      "  PdDistrict      Resolution                    Address           X          Y  \n",
      "0   NORTHERN  ARREST, BOOKED         OAK ST / LAGUNA ST -122.425892  37.774599  \n",
      "1   NORTHERN  ARREST, BOOKED         OAK ST / LAGUNA ST -122.425892  37.774599  \n",
      "2   NORTHERN  ARREST, BOOKED  VANNESS AV / GREENWICH ST -122.424363  37.800414  \n",
      "3   NORTHERN            NONE   1500 Block of LOMBARD ST -122.426995  37.800873  \n",
      "4       PARK            NONE  100 Block of BRODERICK ST -122.438738  37.771541  \n"
     ]
    }
   ],
   "source": [
    "import pandas as pd\n",
    "crime_data = pd.read_csv('C:/Users/Sandi/Downloads/Crime1.csv',\n",
    "                           sep= ',', header= 0)\n",
    "print(crime_data.head())\n"
   ]
  },
  {
   "cell_type": "markdown",
   "metadata": {},
   "source": [
    "\n",
    "<p>\n",
    "The above output can be transformed to more understandable output using tabulate.\n",
    "\n",
    "</p>",
    "<p>",
    "Step 2: Transforming the output to more understable form:\n",
    "</p>"
   ]
  },
  {
   "cell_type": "code",
   "execution_count": 2,
   "metadata": {},
   "outputs": [
    {
     "name": "stdout",
     "output_type": "stream",
     "text": [
      "+----+-----------------+----------------+------------------------------+-------------+--------------+----------------+---------------------------+----------+---------+\n",
      "|    | Dates           | Category       | Descript                     | DayOfWeek   | PdDistrict   | Resolution     | Address                   |        X |       Y |\n",
      "+====+=================+================+==============================+=============+==============+================+===========================+==========+=========+\n",
      "|  0 | 5/13/2015 23:53 | WARRANTS       | WARRANT ARREST               | Wednesday   | NORTHERN     | ARREST, BOOKED | OAK ST / LAGUNA ST        | -122.426 | 37.7746 |\n",
      "+----+-----------------+----------------+------------------------------+-------------+--------------+----------------+---------------------------+----------+---------+\n",
      "|  1 | 5/13/2015 23:53 | OTHER OFFENSES | TRAFFIC VIOLATION ARREST     | Wednesday   | NORTHERN     | ARREST, BOOKED | OAK ST / LAGUNA ST        | -122.426 | 37.7746 |\n",
      "+----+-----------------+----------------+------------------------------+-------------+--------------+----------------+---------------------------+----------+---------+\n",
      "|  2 | 5/13/2015 23:33 | OTHER OFFENSES | TRAFFIC VIOLATION ARREST     | Wednesday   | NORTHERN     | ARREST, BOOKED | VANNESS AV / GREENWICH ST | -122.424 | 37.8004 |\n",
      "+----+-----------------+----------------+------------------------------+-------------+--------------+----------------+---------------------------+----------+---------+\n",
      "|  3 | 5/13/2015 23:30 | LARCENY/THEFT  | GRAND THEFT FROM LOCKED AUTO | Wednesday   | NORTHERN     | NONE           | 1500 Block of LOMBARD ST  | -122.427 | 37.8009 |\n",
      "+----+-----------------+----------------+------------------------------+-------------+--------------+----------------+---------------------------+----------+---------+\n",
      "|  4 | 5/13/2015 23:30 | LARCENY/THEFT  | GRAND THEFT FROM LOCKED AUTO | Wednesday   | PARK         | NONE           | 100 Block of BRODERICK ST | -122.439 | 37.7715 |\n",
      "+----+-----------------+----------------+------------------------------+-------------+--------------+----------------+---------------------------+----------+---------+\n"
     ]
    }
   ],
   "source": [
    "from tabulate import tabulate\n",
    "print(tabulate(crime_data.head(), tablefmt=\"grid\", headers=\"keys\"))"
   ]
  },
  {
   "cell_type": "markdown",
   "metadata": {},
   "source": [
    "\n",
    "<p>\n",
    "The above output though being more understandable, we need to rearrange and enhance our dataset in the dataframe.\n",
    "\n",
    "</p>",
    "<p>",
    "We can observe that in the Dates column, the field contains both date and time. As a part of data preperation, we need to seperate these two into two different columns.\n",
    "\n",
    "</p>",
    "<p>",
    "Step 3: Enhancing the data:\n",
    "</p>"
   ]
  },
  {
   "cell_type": "code",
   "execution_count": 3,
   "metadata": {},
   "outputs": [
    {
     "name": "stdout",
     "output_type": "stream",
     "text": [
      "+----+----------------+------------------------------+-------------+--------------+----------------+---------------------------+----------+---------+-----------+--------+\n",
      "|    | Category       | Descript                     | DayOfWeek   | PdDistrict   | Resolution     | Address                   |        X |       Y | Date      | Time   |\n",
      "+====+================+==============================+=============+==============+================+===========================+==========+=========+===========+========+\n",
      "|  0 | WARRANTS       | WARRANT ARREST               | Wednesday   | NORTHERN     | ARREST, BOOKED | OAK ST / LAGUNA ST        | -122.426 | 37.7746 | 5/13/2015 | 23:53  |\n",
      "+----+----------------+------------------------------+-------------+--------------+----------------+---------------------------+----------+---------+-----------+--------+\n",
      "|  1 | OTHER OFFENSES | TRAFFIC VIOLATION ARREST     | Wednesday   | NORTHERN     | ARREST, BOOKED | OAK ST / LAGUNA ST        | -122.426 | 37.7746 | 5/13/2015 | 23:53  |\n",
      "+----+----------------+------------------------------+-------------+--------------+----------------+---------------------------+----------+---------+-----------+--------+\n",
      "|  2 | OTHER OFFENSES | TRAFFIC VIOLATION ARREST     | Wednesday   | NORTHERN     | ARREST, BOOKED | VANNESS AV / GREENWICH ST | -122.424 | 37.8004 | 5/13/2015 | 23:33  |\n",
      "+----+----------------+------------------------------+-------------+--------------+----------------+---------------------------+----------+---------+-----------+--------+\n",
      "|  3 | LARCENY/THEFT  | GRAND THEFT FROM LOCKED AUTO | Wednesday   | NORTHERN     | NONE           | 1500 Block of LOMBARD ST  | -122.427 | 37.8009 | 5/13/2015 | 23:30  |\n",
      "+----+----------------+------------------------------+-------------+--------------+----------------+---------------------------+----------+---------+-----------+--------+\n",
      "|  4 | LARCENY/THEFT  | GRAND THEFT FROM LOCKED AUTO | Wednesday   | PARK         | NONE           | 100 Block of BRODERICK ST | -122.439 | 37.7715 | 5/13/2015 | 23:30  |\n",
      "+----+----------------+------------------------------+-------------+--------------+----------------+---------------------------+----------+---------+-----------+--------+\n"
     ]
    }
   ],
   "source": [
    "columnsTitles=['Category', 'Dates', 'Descript', 'DayOfWeek', 'PdDistrict', 'Resolution', 'Address', 'X', 'Y']\n",
    "crime_data=crime_data.reindex(columns=columnsTitles)\n",
    "crime_data= crime_data[:3000]\n",
    "# new data frame with split value columns \n",
    "new = crime_data[\"Dates\"].str.split(\" \", n = 1, expand = True) \n",
    "\n",
    "# making seperate date column from Dates Column \n",
    "crime_data[\"Date\"]= new[0] \n",
    "  \n",
    "# making seperate time column from Dates Column \n",
    "crime_data[\"Time\"]= new[1] \n",
    "  \n",
    "# Dropping old Dates columns \n",
    "crime_data.drop(columns =[\"Dates\"], inplace = True) \n",
    "\n",
    "print(tabulate(crime_data.head(), tablefmt=\"grid\", headers=\"keys\"))"
   ]
  },
  {
   "cell_type": "markdown",
   "metadata": {},
   "source": [
    "\n",
    "<p>\n",
    "Step 4: Check for any missing data:\n",
    "</p>"
   ]
  },
  {
   "cell_type": "code",
   "execution_count": 4,
   "metadata": {},
   "outputs": [
    {
     "data": {
      "text/plain": [
       "Category      0\n",
       "Descript      0\n",
       "DayOfWeek     0\n",
       "PdDistrict    0\n",
       "Resolution    0\n",
       "Address       0\n",
       "X             0\n",
       "Y             0\n",
       "Date          0\n",
       "Time          0\n",
       "dtype: int64"
      ]
     },
     "execution_count": 4,
     "metadata": {},
     "output_type": "execute_result"
    }
   ],
   "source": [
    "crime_data.isnull().sum()"
   ]
  }
 ],
 "metadata": {
  "kernelspec": {
   "display_name": "Python 3",
   "language": "python",
   "name": "python3"
  },
  "language_info": {
   "codemirror_mode": {
    "name": "ipython",
    "version": 3
   },
   "file_extension": ".py",
   "mimetype": "text/x-python",
   "name": "python",
   "nbconvert_exporter": "python",
   "pygments_lexer": "ipython3",
   "version": "3.7.1"
  }
 },
 "nbformat": 4,
 "nbformat_minor": 2
}
